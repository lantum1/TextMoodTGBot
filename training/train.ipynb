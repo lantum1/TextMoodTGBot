{
 "cells": [
  {
   "cell_type": "code",
   "execution_count": 1,
   "metadata": {},
   "outputs": [
    {
     "name": "stderr",
     "output_type": "stream",
     "text": [
      "C:\\Users\\Gigabyte\\AppData\\Roaming\\Python\\Python310\\site-packages\\tqdm\\auto.py:22: TqdmWarning: IProgress not found. Please update jupyter and ipywidgets. See https://ipywidgets.readthedocs.io/en/stable/user_install.html\n",
      "  from .autonotebook import tqdm as notebook_tqdm\n"
     ]
    },
    {
     "name": "stdout",
     "output_type": "stream",
     "text": [
      "transformers 4.22.2\n",
      "torch 1.12.1+cu116\n",
      "datasets 2.6.1\n"
     ]
    }
   ],
   "source": [
    "import transformers, torch, datasets\n",
    "print(\"transformers\", transformers.__version__)\n",
    "print(\"torch\", torch.__version__)\n",
    "print(\"datasets\", datasets.__version__)"
   ]
  },
  {
   "attachments": {},
   "cell_type": "markdown",
   "metadata": {},
   "source": [
    "Подгружаем готовый датасет sst2 из HuggingFace Datasets Hub "
   ]
  },
  {
   "cell_type": "code",
   "execution_count": 2,
   "metadata": {},
   "outputs": [
    {
     "name": "stderr",
     "output_type": "stream",
     "text": [
      "Found cached dataset sst2 (C:/Users/Gigabyte/.cache/huggingface/datasets/sst2/default/2.0.0/9896208a8d85db057ac50c72282bcb8fe755accc671a57dd8059d4e130961ed5)\n",
      "100%|██████████| 3/3 [00:00<00:00, 532.88it/s]\n"
     ]
    }
   ],
   "source": [
    "from datasets import load_dataset\n",
    "from transformers import AutoTokenizer, DataCollatorWithPadding\n",
    "\n",
    "dataset = load_dataset(\"sst2\")"
   ]
  },
  {
   "attachments": {},
   "cell_type": "markdown",
   "metadata": {},
   "source": [
    "tokenizer - токенизатор для предобработки данных. Токенизируем набор данных - разбиваем его на компоненты понятного для модели вида"
   ]
  },
  {
   "cell_type": "code",
   "execution_count": 3,
   "metadata": {},
   "outputs": [
    {
     "name": "stderr",
     "output_type": "stream",
     "text": [
      "Loading cached processed dataset at C:/Users/Gigabyte/.cache/huggingface/datasets/sst2/default/2.0.0/9896208a8d85db057ac50c72282bcb8fe755accc671a57dd8059d4e130961ed5\\cache-95ce16d58ec006b6.arrow\n",
      "Loading cached processed dataset at C:/Users/Gigabyte/.cache/huggingface/datasets/sst2/default/2.0.0/9896208a8d85db057ac50c72282bcb8fe755accc671a57dd8059d4e130961ed5\\cache-67610756c5f04d3f.arrow\n",
      "Loading cached processed dataset at C:/Users/Gigabyte/.cache/huggingface/datasets/sst2/default/2.0.0/9896208a8d85db057ac50c72282bcb8fe755accc671a57dd8059d4e130961ed5\\cache-06aed57ca092479f.arrow\n"
     ]
    }
   ],
   "source": [
    "tokenizer = AutoTokenizer.from_pretrained(\"distilbert-base-uncased\")\n",
    "\n",
    "def preprocess_function(examples):\n",
    "    return tokenizer(examples[\"sentence\"], truncation=True)\n",
    "\n",
    "tokenized_dataset = dataset.map(preprocess_function, batched=True)\n",
    "\n",
    "data_collator = DataCollatorWithPadding(tokenizer=tokenizer)"
   ]
  },
  {
   "attachments": {},
   "cell_type": "markdown",
   "metadata": {},
   "source": [
    "Загрузим предобученную модель. В переменной model будет предобученная модель distilBERT. Указываем устройство обучения (Cuda, если есть видеокарта Nvidia, иначе ЦП)"
   ]
  },
  {
   "cell_type": "code",
   "execution_count": 4,
   "metadata": {},
   "outputs": [
    {
     "name": "stderr",
     "output_type": "stream",
     "text": [
      "Some weights of the model checkpoint at distilbert-base-uncased were not used when initializing DistilBertForSequenceClassification: ['vocab_layer_norm.bias', 'vocab_layer_norm.weight', 'vocab_transform.weight', 'vocab_transform.bias', 'vocab_projector.weight', 'vocab_projector.bias']\n",
      "- This IS expected if you are initializing DistilBertForSequenceClassification from the checkpoint of a model trained on another task or with another architecture (e.g. initializing a BertForSequenceClassification model from a BertForPreTraining model).\n",
      "- This IS NOT expected if you are initializing DistilBertForSequenceClassification from the checkpoint of a model that you expect to be exactly identical (initializing a BertForSequenceClassification model from a BertForSequenceClassification model).\n",
      "Some weights of DistilBertForSequenceClassification were not initialized from the model checkpoint at distilbert-base-uncased and are newly initialized: ['classifier.weight', 'classifier.bias', 'pre_classifier.weight', 'pre_classifier.bias']\n",
      "You should probably TRAIN this model on a down-stream task to be able to use it for predictions and inference.\n"
     ]
    },
    {
     "data": {
      "text/plain": [
       "DistilBertForSequenceClassification(\n",
       "  (distilbert): DistilBertModel(\n",
       "    (embeddings): Embeddings(\n",
       "      (word_embeddings): Embedding(30522, 768, padding_idx=0)\n",
       "      (position_embeddings): Embedding(512, 768)\n",
       "      (LayerNorm): LayerNorm((768,), eps=1e-12, elementwise_affine=True)\n",
       "      (dropout): Dropout(p=0.1, inplace=False)\n",
       "    )\n",
       "    (transformer): Transformer(\n",
       "      (layer): ModuleList(\n",
       "        (0): TransformerBlock(\n",
       "          (attention): MultiHeadSelfAttention(\n",
       "            (dropout): Dropout(p=0.1, inplace=False)\n",
       "            (q_lin): Linear(in_features=768, out_features=768, bias=True)\n",
       "            (k_lin): Linear(in_features=768, out_features=768, bias=True)\n",
       "            (v_lin): Linear(in_features=768, out_features=768, bias=True)\n",
       "            (out_lin): Linear(in_features=768, out_features=768, bias=True)\n",
       "          )\n",
       "          (sa_layer_norm): LayerNorm((768,), eps=1e-12, elementwise_affine=True)\n",
       "          (ffn): FFN(\n",
       "            (dropout): Dropout(p=0.1, inplace=False)\n",
       "            (lin1): Linear(in_features=768, out_features=3072, bias=True)\n",
       "            (lin2): Linear(in_features=3072, out_features=768, bias=True)\n",
       "            (activation): GELUActivation()\n",
       "          )\n",
       "          (output_layer_norm): LayerNorm((768,), eps=1e-12, elementwise_affine=True)\n",
       "        )\n",
       "        (1): TransformerBlock(\n",
       "          (attention): MultiHeadSelfAttention(\n",
       "            (dropout): Dropout(p=0.1, inplace=False)\n",
       "            (q_lin): Linear(in_features=768, out_features=768, bias=True)\n",
       "            (k_lin): Linear(in_features=768, out_features=768, bias=True)\n",
       "            (v_lin): Linear(in_features=768, out_features=768, bias=True)\n",
       "            (out_lin): Linear(in_features=768, out_features=768, bias=True)\n",
       "          )\n",
       "          (sa_layer_norm): LayerNorm((768,), eps=1e-12, elementwise_affine=True)\n",
       "          (ffn): FFN(\n",
       "            (dropout): Dropout(p=0.1, inplace=False)\n",
       "            (lin1): Linear(in_features=768, out_features=3072, bias=True)\n",
       "            (lin2): Linear(in_features=3072, out_features=768, bias=True)\n",
       "            (activation): GELUActivation()\n",
       "          )\n",
       "          (output_layer_norm): LayerNorm((768,), eps=1e-12, elementwise_affine=True)\n",
       "        )\n",
       "        (2): TransformerBlock(\n",
       "          (attention): MultiHeadSelfAttention(\n",
       "            (dropout): Dropout(p=0.1, inplace=False)\n",
       "            (q_lin): Linear(in_features=768, out_features=768, bias=True)\n",
       "            (k_lin): Linear(in_features=768, out_features=768, bias=True)\n",
       "            (v_lin): Linear(in_features=768, out_features=768, bias=True)\n",
       "            (out_lin): Linear(in_features=768, out_features=768, bias=True)\n",
       "          )\n",
       "          (sa_layer_norm): LayerNorm((768,), eps=1e-12, elementwise_affine=True)\n",
       "          (ffn): FFN(\n",
       "            (dropout): Dropout(p=0.1, inplace=False)\n",
       "            (lin1): Linear(in_features=768, out_features=3072, bias=True)\n",
       "            (lin2): Linear(in_features=3072, out_features=768, bias=True)\n",
       "            (activation): GELUActivation()\n",
       "          )\n",
       "          (output_layer_norm): LayerNorm((768,), eps=1e-12, elementwise_affine=True)\n",
       "        )\n",
       "        (3): TransformerBlock(\n",
       "          (attention): MultiHeadSelfAttention(\n",
       "            (dropout): Dropout(p=0.1, inplace=False)\n",
       "            (q_lin): Linear(in_features=768, out_features=768, bias=True)\n",
       "            (k_lin): Linear(in_features=768, out_features=768, bias=True)\n",
       "            (v_lin): Linear(in_features=768, out_features=768, bias=True)\n",
       "            (out_lin): Linear(in_features=768, out_features=768, bias=True)\n",
       "          )\n",
       "          (sa_layer_norm): LayerNorm((768,), eps=1e-12, elementwise_affine=True)\n",
       "          (ffn): FFN(\n",
       "            (dropout): Dropout(p=0.1, inplace=False)\n",
       "            (lin1): Linear(in_features=768, out_features=3072, bias=True)\n",
       "            (lin2): Linear(in_features=3072, out_features=768, bias=True)\n",
       "            (activation): GELUActivation()\n",
       "          )\n",
       "          (output_layer_norm): LayerNorm((768,), eps=1e-12, elementwise_affine=True)\n",
       "        )\n",
       "        (4): TransformerBlock(\n",
       "          (attention): MultiHeadSelfAttention(\n",
       "            (dropout): Dropout(p=0.1, inplace=False)\n",
       "            (q_lin): Linear(in_features=768, out_features=768, bias=True)\n",
       "            (k_lin): Linear(in_features=768, out_features=768, bias=True)\n",
       "            (v_lin): Linear(in_features=768, out_features=768, bias=True)\n",
       "            (out_lin): Linear(in_features=768, out_features=768, bias=True)\n",
       "          )\n",
       "          (sa_layer_norm): LayerNorm((768,), eps=1e-12, elementwise_affine=True)\n",
       "          (ffn): FFN(\n",
       "            (dropout): Dropout(p=0.1, inplace=False)\n",
       "            (lin1): Linear(in_features=768, out_features=3072, bias=True)\n",
       "            (lin2): Linear(in_features=3072, out_features=768, bias=True)\n",
       "            (activation): GELUActivation()\n",
       "          )\n",
       "          (output_layer_norm): LayerNorm((768,), eps=1e-12, elementwise_affine=True)\n",
       "        )\n",
       "        (5): TransformerBlock(\n",
       "          (attention): MultiHeadSelfAttention(\n",
       "            (dropout): Dropout(p=0.1, inplace=False)\n",
       "            (q_lin): Linear(in_features=768, out_features=768, bias=True)\n",
       "            (k_lin): Linear(in_features=768, out_features=768, bias=True)\n",
       "            (v_lin): Linear(in_features=768, out_features=768, bias=True)\n",
       "            (out_lin): Linear(in_features=768, out_features=768, bias=True)\n",
       "          )\n",
       "          (sa_layer_norm): LayerNorm((768,), eps=1e-12, elementwise_affine=True)\n",
       "          (ffn): FFN(\n",
       "            (dropout): Dropout(p=0.1, inplace=False)\n",
       "            (lin1): Linear(in_features=768, out_features=3072, bias=True)\n",
       "            (lin2): Linear(in_features=3072, out_features=768, bias=True)\n",
       "            (activation): GELUActivation()\n",
       "          )\n",
       "          (output_layer_norm): LayerNorm((768,), eps=1e-12, elementwise_affine=True)\n",
       "        )\n",
       "      )\n",
       "    )\n",
       "  )\n",
       "  (pre_classifier): Linear(in_features=768, out_features=768, bias=True)\n",
       "  (classifier): Linear(in_features=768, out_features=2, bias=True)\n",
       "  (dropout): Dropout(p=0.2, inplace=False)\n",
       ")"
      ]
     },
     "execution_count": 4,
     "metadata": {},
     "output_type": "execute_result"
    }
   ],
   "source": [
    "from torch import device\n",
    "device = torch.device('cuda' if torch.cuda.is_available() else 'cpu')\n",
    "from transformers import AutoModelForSequenceClassification, TrainingArguments, Trainer\n",
    "\n",
    "model = AutoModelForSequenceClassification.from_pretrained(\"distilbert-base-uncased\", num_labels=2)\n",
    "model.to(device)\n"
   ]
  },
  {
   "cell_type": "code",
   "execution_count": 6,
   "metadata": {},
   "outputs": [],
   "source": [
    "import evaluate\n",
    "metric = evaluate.load(\"accuracy\")"
   ]
  },
  {
   "cell_type": "code",
   "execution_count": 7,
   "metadata": {},
   "outputs": [
    {
     "data": {
      "text/plain": [
       "EvaluationModule(name: \"accuracy\", module_type: \"metric\", features: {'predictions': Value(dtype='int32', id=None), 'references': Value(dtype='int32', id=None)}, usage: \"\"\"\n",
       "Args:\n",
       "    predictions (`list` of `int`): Predicted labels.\n",
       "    references (`list` of `int`): Ground truth labels.\n",
       "    normalize (`boolean`): If set to False, returns the number of correctly classified samples. Otherwise, returns the fraction of correctly classified samples. Defaults to True.\n",
       "    sample_weight (`list` of `float`): Sample weights Defaults to None.\n",
       "\n",
       "Returns:\n",
       "    accuracy (`float` or `int`): Accuracy score. Minimum possible value is 0. Maximum possible value is 1.0, or the number of examples input, if `normalize` is set to `True`.. A higher score means higher accuracy.\n",
       "\n",
       "Examples:\n",
       "\n",
       "    Example 1-A simple example\n",
       "        >>> accuracy_metric = evaluate.load(\"accuracy\")\n",
       "        >>> results = accuracy_metric.compute(references=[0, 1, 2, 0, 1, 2], predictions=[0, 1, 1, 2, 1, 0])\n",
       "        >>> print(results)\n",
       "        {'accuracy': 0.5}\n",
       "\n",
       "    Example 2-The same as Example 1, except with `normalize` set to `False`.\n",
       "        >>> accuracy_metric = evaluate.load(\"accuracy\")\n",
       "        >>> results = accuracy_metric.compute(references=[0, 1, 2, 0, 1, 2], predictions=[0, 1, 1, 2, 1, 0], normalize=False)\n",
       "        >>> print(results)\n",
       "        {'accuracy': 3.0}\n",
       "\n",
       "    Example 3-The same as Example 1, except with `sample_weight` set.\n",
       "        >>> accuracy_metric = evaluate.load(\"accuracy\")\n",
       "        >>> results = accuracy_metric.compute(references=[0, 1, 2, 0, 1, 2], predictions=[0, 1, 1, 2, 1, 0], sample_weight=[0.5, 2, 0.7, 0.5, 9, 0.4])\n",
       "        >>> print(results)\n",
       "        {'accuracy': 0.8778625954198473}\n",
       "\"\"\", stored examples: 0)"
      ]
     },
     "execution_count": 7,
     "metadata": {},
     "output_type": "execute_result"
    }
   ],
   "source": [
    "metric"
   ]
  },
  {
   "cell_type": "code",
   "execution_count": 8,
   "metadata": {},
   "outputs": [],
   "source": [
    "import numpy as np\n",
    "def compute_metrics(eval_pred):\n",
    "    predictions, labels = eval_pred\n",
    "    predictions = np.argmax(predictions, axis=1)\n",
    "    return metric.compute(predictions=predictions, references=labels)"
   ]
  },
  {
   "cell_type": "code",
   "execution_count": 9,
   "metadata": {},
   "outputs": [],
   "source": [
    "validation_key = \"validation\""
   ]
  },
  {
   "attachments": {},
   "cell_type": "markdown",
   "metadata": {},
   "source": [
    "Задаем параметры обучения"
   ]
  },
  {
   "cell_type": "code",
   "execution_count": 10,
   "metadata": {},
   "outputs": [],
   "source": [
    "training_args = TrainingArguments(\n",
    "    output_dir=\"C:\\\\Users\\\\Gigabyte\\\\Desktop\\\\IT\\\\oop\\\\lab1\\\\results\\\\\",\n",
    "    learning_rate=1e-5,\n",
    "    per_device_train_batch_size=32,\n",
    "    per_device_eval_batch_size=32,\n",
    "    num_train_epochs=5,\n",
    "    weight_decay=0.01,\n",
    ")\n",
    "\n",
    "trainer = Trainer(\n",
    "    model=model,\n",
    "    args=training_args,\n",
    "    train_dataset=tokenized_dataset[\"train\"],\n",
    "    eval_dataset=tokenized_dataset[validation_key],\n",
    "    tokenizer=tokenizer,\n",
    "    data_collator=data_collator,\n",
    "    compute_metrics=compute_metrics,\n",
    ")"
   ]
  },
  {
   "attachments": {},
   "cell_type": "markdown",
   "metadata": {},
   "source": [
    "Запускаем обучение сети"
   ]
  },
  {
   "cell_type": "code",
   "execution_count": 12,
   "metadata": {},
   "outputs": [
    {
     "name": "stderr",
     "output_type": "stream",
     "text": [
      "The following columns in the training set don't have a corresponding argument in `DistilBertForSequenceClassification.forward` and have been ignored: sentence, idx. If sentence, idx are not expected by `DistilBertForSequenceClassification.forward`,  you can safely ignore this message.\n",
      "C:\\Users\\Gigabyte\\AppData\\Roaming\\Python\\Python310\\site-packages\\transformers\\optimization.py:306: FutureWarning: This implementation of AdamW is deprecated and will be removed in a future version. Use the PyTorch implementation torch.optim.AdamW instead, or set `no_deprecation_warning=True` to disable this warning\n",
      "  warnings.warn(\n",
      "***** Running training *****\n",
      "  Num examples = 67349\n",
      "  Num Epochs = 3\n",
      "  Instantaneous batch size per device = 32\n",
      "  Total train batch size (w. parallel, distributed & accumulation) = 32\n",
      "  Gradient Accumulation steps = 1\n",
      "  Total optimization steps = 6315\n",
      "  8%|▊         | 500/6315 [00:52<09:52,  9.82it/s]Saving model checkpoint to C:\\Users\\Gigabyte\\Desktop\\IT\\oop\\lab1\\results\\checkpoint-500\n",
      "Configuration saved in C:\\Users\\Gigabyte\\Desktop\\IT\\oop\\lab1\\results\\checkpoint-500\\config.json\n"
     ]
    },
    {
     "name": "stdout",
     "output_type": "stream",
     "text": [
      "{'loss': 0.3341, 'learning_rate': 9.208234362628663e-06, 'epoch': 0.24}\n"
     ]
    },
    {
     "name": "stderr",
     "output_type": "stream",
     "text": [
      "Model weights saved in C:\\Users\\Gigabyte\\Desktop\\IT\\oop\\lab1\\results\\checkpoint-500\\pytorch_model.bin\n",
      "tokenizer config file saved in C:\\Users\\Gigabyte\\Desktop\\IT\\oop\\lab1\\results\\checkpoint-500\\tokenizer_config.json\n",
      "Special tokens file saved in C:\\Users\\Gigabyte\\Desktop\\IT\\oop\\lab1\\results\\checkpoint-500\\special_tokens_map.json\n",
      " 16%|█▌        | 1000/6315 [01:46<09:00,  9.83it/s]Saving model checkpoint to C:\\Users\\Gigabyte\\Desktop\\IT\\oop\\lab1\\results\\checkpoint-1000\n",
      "Configuration saved in C:\\Users\\Gigabyte\\Desktop\\IT\\oop\\lab1\\results\\checkpoint-1000\\config.json\n"
     ]
    },
    {
     "name": "stdout",
     "output_type": "stream",
     "text": [
      "{'loss': 0.2492, 'learning_rate': 8.416468725257323e-06, 'epoch': 0.48}\n"
     ]
    },
    {
     "name": "stderr",
     "output_type": "stream",
     "text": [
      "Model weights saved in C:\\Users\\Gigabyte\\Desktop\\IT\\oop\\lab1\\results\\checkpoint-1000\\pytorch_model.bin\n",
      "tokenizer config file saved in C:\\Users\\Gigabyte\\Desktop\\IT\\oop\\lab1\\results\\checkpoint-1000\\tokenizer_config.json\n",
      "Special tokens file saved in C:\\Users\\Gigabyte\\Desktop\\IT\\oop\\lab1\\results\\checkpoint-1000\\special_tokens_map.json\n",
      " 24%|██▍       | 1500/6315 [02:39<08:03,  9.95it/s]Saving model checkpoint to C:\\Users\\Gigabyte\\Desktop\\IT\\oop\\lab1\\results\\checkpoint-1500\n",
      "Configuration saved in C:\\Users\\Gigabyte\\Desktop\\IT\\oop\\lab1\\results\\checkpoint-1500\\config.json\n"
     ]
    },
    {
     "name": "stdout",
     "output_type": "stream",
     "text": [
      "{'loss': 0.2141, 'learning_rate': 7.624703087885986e-06, 'epoch': 0.71}\n"
     ]
    },
    {
     "name": "stderr",
     "output_type": "stream",
     "text": [
      "Model weights saved in C:\\Users\\Gigabyte\\Desktop\\IT\\oop\\lab1\\results\\checkpoint-1500\\pytorch_model.bin\n",
      "tokenizer config file saved in C:\\Users\\Gigabyte\\Desktop\\IT\\oop\\lab1\\results\\checkpoint-1500\\tokenizer_config.json\n",
      "Special tokens file saved in C:\\Users\\Gigabyte\\Desktop\\IT\\oop\\lab1\\results\\checkpoint-1500\\special_tokens_map.json\n",
      " 32%|███▏      | 2000/6315 [03:33<07:32,  9.54it/s]Saving model checkpoint to C:\\Users\\Gigabyte\\Desktop\\IT\\oop\\lab1\\results\\checkpoint-2000\n",
      "Configuration saved in C:\\Users\\Gigabyte\\Desktop\\IT\\oop\\lab1\\results\\checkpoint-2000\\config.json\n"
     ]
    },
    {
     "name": "stdout",
     "output_type": "stream",
     "text": [
      "{'loss': 0.1996, 'learning_rate': 6.832937450514648e-06, 'epoch': 0.95}\n"
     ]
    },
    {
     "name": "stderr",
     "output_type": "stream",
     "text": [
      "Model weights saved in C:\\Users\\Gigabyte\\Desktop\\IT\\oop\\lab1\\results\\checkpoint-2000\\pytorch_model.bin\n",
      "tokenizer config file saved in C:\\Users\\Gigabyte\\Desktop\\IT\\oop\\lab1\\results\\checkpoint-2000\\tokenizer_config.json\n",
      "Special tokens file saved in C:\\Users\\Gigabyte\\Desktop\\IT\\oop\\lab1\\results\\checkpoint-2000\\special_tokens_map.json\n",
      " 40%|███▉      | 2500/6315 [04:26<06:29,  9.80it/s]Saving model checkpoint to C:\\Users\\Gigabyte\\Desktop\\IT\\oop\\lab1\\results\\checkpoint-2500\n",
      "Configuration saved in C:\\Users\\Gigabyte\\Desktop\\IT\\oop\\lab1\\results\\checkpoint-2500\\config.json\n"
     ]
    },
    {
     "name": "stdout",
     "output_type": "stream",
     "text": [
      "{'loss': 0.1585, 'learning_rate': 6.04117181314331e-06, 'epoch': 1.19}\n"
     ]
    },
    {
     "name": "stderr",
     "output_type": "stream",
     "text": [
      "Model weights saved in C:\\Users\\Gigabyte\\Desktop\\IT\\oop\\lab1\\results\\checkpoint-2500\\pytorch_model.bin\n",
      "tokenizer config file saved in C:\\Users\\Gigabyte\\Desktop\\IT\\oop\\lab1\\results\\checkpoint-2500\\tokenizer_config.json\n",
      "Special tokens file saved in C:\\Users\\Gigabyte\\Desktop\\IT\\oop\\lab1\\results\\checkpoint-2500\\special_tokens_map.json\n",
      " 48%|████▊     | 3000/6315 [05:19<06:07,  9.02it/s]Saving model checkpoint to C:\\Users\\Gigabyte\\Desktop\\IT\\oop\\lab1\\results\\checkpoint-3000\n",
      "Configuration saved in C:\\Users\\Gigabyte\\Desktop\\IT\\oop\\lab1\\results\\checkpoint-3000\\config.json\n"
     ]
    },
    {
     "name": "stdout",
     "output_type": "stream",
     "text": [
      "{'loss': 0.1503, 'learning_rate': 5.2494061757719716e-06, 'epoch': 1.43}\n"
     ]
    },
    {
     "name": "stderr",
     "output_type": "stream",
     "text": [
      "Model weights saved in C:\\Users\\Gigabyte\\Desktop\\IT\\oop\\lab1\\results\\checkpoint-3000\\pytorch_model.bin\n",
      "tokenizer config file saved in C:\\Users\\Gigabyte\\Desktop\\IT\\oop\\lab1\\results\\checkpoint-3000\\tokenizer_config.json\n",
      "Special tokens file saved in C:\\Users\\Gigabyte\\Desktop\\IT\\oop\\lab1\\results\\checkpoint-3000\\special_tokens_map.json\n",
      " 55%|█████▌    | 3500/6315 [06:13<04:41, 10.01it/s]Saving model checkpoint to C:\\Users\\Gigabyte\\Desktop\\IT\\oop\\lab1\\results\\checkpoint-3500\n",
      "Configuration saved in C:\\Users\\Gigabyte\\Desktop\\IT\\oop\\lab1\\results\\checkpoint-3500\\config.json\n"
     ]
    },
    {
     "name": "stdout",
     "output_type": "stream",
     "text": [
      "{'loss': 0.1397, 'learning_rate': 4.457640538400634e-06, 'epoch': 1.66}\n"
     ]
    },
    {
     "name": "stderr",
     "output_type": "stream",
     "text": [
      "Model weights saved in C:\\Users\\Gigabyte\\Desktop\\IT\\oop\\lab1\\results\\checkpoint-3500\\pytorch_model.bin\n",
      "tokenizer config file saved in C:\\Users\\Gigabyte\\Desktop\\IT\\oop\\lab1\\results\\checkpoint-3500\\tokenizer_config.json\n",
      "Special tokens file saved in C:\\Users\\Gigabyte\\Desktop\\IT\\oop\\lab1\\results\\checkpoint-3500\\special_tokens_map.json\n",
      " 63%|██████▎   | 4000/6315 [07:06<04:02,  9.55it/s]Saving model checkpoint to C:\\Users\\Gigabyte\\Desktop\\IT\\oop\\lab1\\results\\checkpoint-4000\n",
      "Configuration saved in C:\\Users\\Gigabyte\\Desktop\\IT\\oop\\lab1\\results\\checkpoint-4000\\config.json\n"
     ]
    },
    {
     "name": "stdout",
     "output_type": "stream",
     "text": [
      "{'loss': 0.1445, 'learning_rate': 3.6658749010292953e-06, 'epoch': 1.9}\n"
     ]
    },
    {
     "name": "stderr",
     "output_type": "stream",
     "text": [
      "Model weights saved in C:\\Users\\Gigabyte\\Desktop\\IT\\oop\\lab1\\results\\checkpoint-4000\\pytorch_model.bin\n",
      "tokenizer config file saved in C:\\Users\\Gigabyte\\Desktop\\IT\\oop\\lab1\\results\\checkpoint-4000\\tokenizer_config.json\n",
      "Special tokens file saved in C:\\Users\\Gigabyte\\Desktop\\IT\\oop\\lab1\\results\\checkpoint-4000\\special_tokens_map.json\n",
      " 71%|███████▏  | 4500/6315 [08:00<03:03,  9.89it/s]Saving model checkpoint to C:\\Users\\Gigabyte\\Desktop\\IT\\oop\\lab1\\results\\checkpoint-4500\n",
      "Configuration saved in C:\\Users\\Gigabyte\\Desktop\\IT\\oop\\lab1\\results\\checkpoint-4500\\config.json\n"
     ]
    },
    {
     "name": "stdout",
     "output_type": "stream",
     "text": [
      "{'loss': 0.1216, 'learning_rate': 2.874109263657958e-06, 'epoch': 2.14}\n"
     ]
    },
    {
     "name": "stderr",
     "output_type": "stream",
     "text": [
      "Model weights saved in C:\\Users\\Gigabyte\\Desktop\\IT\\oop\\lab1\\results\\checkpoint-4500\\pytorch_model.bin\n",
      "tokenizer config file saved in C:\\Users\\Gigabyte\\Desktop\\IT\\oop\\lab1\\results\\checkpoint-4500\\tokenizer_config.json\n",
      "Special tokens file saved in C:\\Users\\Gigabyte\\Desktop\\IT\\oop\\lab1\\results\\checkpoint-4500\\special_tokens_map.json\n",
      " 79%|███████▉  | 5000/6315 [08:54<02:12,  9.93it/s]Saving model checkpoint to C:\\Users\\Gigabyte\\Desktop\\IT\\oop\\lab1\\results\\checkpoint-5000\n",
      "Configuration saved in C:\\Users\\Gigabyte\\Desktop\\IT\\oop\\lab1\\results\\checkpoint-5000\\config.json\n"
     ]
    },
    {
     "name": "stdout",
     "output_type": "stream",
     "text": [
      "{'loss': 0.1101, 'learning_rate': 2.082343626286619e-06, 'epoch': 2.38}\n"
     ]
    },
    {
     "name": "stderr",
     "output_type": "stream",
     "text": [
      "Model weights saved in C:\\Users\\Gigabyte\\Desktop\\IT\\oop\\lab1\\results\\checkpoint-5000\\pytorch_model.bin\n",
      "tokenizer config file saved in C:\\Users\\Gigabyte\\Desktop\\IT\\oop\\lab1\\results\\checkpoint-5000\\tokenizer_config.json\n",
      "Special tokens file saved in C:\\Users\\Gigabyte\\Desktop\\IT\\oop\\lab1\\results\\checkpoint-5000\\special_tokens_map.json\n",
      " 87%|████████▋ | 5500/6315 [09:47<01:21,  9.98it/s]Saving model checkpoint to C:\\Users\\Gigabyte\\Desktop\\IT\\oop\\lab1\\results\\checkpoint-5500\n",
      "Configuration saved in C:\\Users\\Gigabyte\\Desktop\\IT\\oop\\lab1\\results\\checkpoint-5500\\config.json\n"
     ]
    },
    {
     "name": "stdout",
     "output_type": "stream",
     "text": [
      "{'loss': 0.1151, 'learning_rate': 1.290577988915281e-06, 'epoch': 2.61}\n"
     ]
    },
    {
     "name": "stderr",
     "output_type": "stream",
     "text": [
      "Model weights saved in C:\\Users\\Gigabyte\\Desktop\\IT\\oop\\lab1\\results\\checkpoint-5500\\pytorch_model.bin\n",
      "tokenizer config file saved in C:\\Users\\Gigabyte\\Desktop\\IT\\oop\\lab1\\results\\checkpoint-5500\\tokenizer_config.json\n",
      "Special tokens file saved in C:\\Users\\Gigabyte\\Desktop\\IT\\oop\\lab1\\results\\checkpoint-5500\\special_tokens_map.json\n",
      " 95%|█████████▌| 6000/6315 [10:41<00:34,  9.18it/s]Saving model checkpoint to C:\\Users\\Gigabyte\\Desktop\\IT\\oop\\lab1\\results\\checkpoint-6000\n",
      "Configuration saved in C:\\Users\\Gigabyte\\Desktop\\IT\\oop\\lab1\\results\\checkpoint-6000\\config.json\n"
     ]
    },
    {
     "name": "stdout",
     "output_type": "stream",
     "text": [
      "{'loss': 0.1092, 'learning_rate': 4.988123515439431e-07, 'epoch': 2.85}\n"
     ]
    },
    {
     "name": "stderr",
     "output_type": "stream",
     "text": [
      "Model weights saved in C:\\Users\\Gigabyte\\Desktop\\IT\\oop\\lab1\\results\\checkpoint-6000\\pytorch_model.bin\n",
      "tokenizer config file saved in C:\\Users\\Gigabyte\\Desktop\\IT\\oop\\lab1\\results\\checkpoint-6000\\tokenizer_config.json\n",
      "Special tokens file saved in C:\\Users\\Gigabyte\\Desktop\\IT\\oop\\lab1\\results\\checkpoint-6000\\special_tokens_map.json\n",
      "100%|██████████| 6315/6315 [11:15<00:00,  9.95it/s]\n",
      "\n",
      "Training completed. Do not forget to share your model on huggingface.co/models =)\n",
      "\n",
      "\n",
      "100%|██████████| 6315/6315 [11:15<00:00,  9.34it/s]"
     ]
    },
    {
     "name": "stdout",
     "output_type": "stream",
     "text": [
      "{'train_runtime': 675.8833, 'train_samples_per_second': 298.938, 'train_steps_per_second': 9.343, 'train_loss': 0.16769504139372401, 'epoch': 3.0}\n"
     ]
    },
    {
     "name": "stderr",
     "output_type": "stream",
     "text": [
      "\n"
     ]
    },
    {
     "data": {
      "text/plain": [
       "TrainOutput(global_step=6315, training_loss=0.16769504139372401, metrics={'train_runtime': 675.8833, 'train_samples_per_second': 298.938, 'train_steps_per_second': 9.343, 'train_loss': 0.16769504139372401, 'epoch': 3.0})"
      ]
     },
     "execution_count": 12,
     "metadata": {},
     "output_type": "execute_result"
    }
   ],
   "source": [
    "trainer.train()"
   ]
  },
  {
   "attachments": {},
   "cell_type": "markdown",
   "metadata": {},
   "source": [
    "Расчитаем метрики"
   ]
  },
  {
   "cell_type": "code",
   "execution_count": 13,
   "metadata": {},
   "outputs": [
    {
     "name": "stderr",
     "output_type": "stream",
     "text": [
      "The following columns in the evaluation set don't have a corresponding argument in `DistilBertForSequenceClassification.forward` and have been ignored: sentence, idx. If sentence, idx are not expected by `DistilBertForSequenceClassification.forward`,  you can safely ignore this message.\n",
      "***** Running Evaluation *****\n",
      "  Num examples = 872\n",
      "  Batch size = 32\n",
      "100%|██████████| 28/28 [00:00<00:00, 30.43it/s]\n"
     ]
    },
    {
     "data": {
      "text/plain": [
       "{'eval_loss': 0.33868709206581116,\n",
       " 'eval_accuracy': 0.9048165137614679,\n",
       " 'eval_runtime': 0.9709,\n",
       " 'eval_samples_per_second': 898.093,\n",
       " 'eval_steps_per_second': 28.838,\n",
       " 'epoch': 3.0}"
      ]
     },
     "execution_count": 13,
     "metadata": {},
     "output_type": "execute_result"
    }
   ],
   "source": [
    "trainer.evaluate()"
   ]
  }
 ],
 "metadata": {
  "kernelspec": {
   "display_name": "Python 3",
   "language": "python",
   "name": "python3"
  },
  "language_info": {
   "codemirror_mode": {
    "name": "ipython",
    "version": 3
   },
   "file_extension": ".py",
   "mimetype": "text/x-python",
   "name": "python",
   "nbconvert_exporter": "python",
   "pygments_lexer": "ipython3",
   "version": "3.10.6"
  },
  "orig_nbformat": 4,
  "vscode": {
   "interpreter": {
    "hash": "26de051ba29f2982a8de78e945f0abaf191376122a1563185a90213a26c5da77"
   }
  }
 },
 "nbformat": 4,
 "nbformat_minor": 2
}
