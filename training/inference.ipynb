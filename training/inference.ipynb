{
 "cells": [
  {
   "attachments": {},
   "cell_type": "markdown",
   "metadata": {},
   "source": [
    "Для удобства использования модели в инференсе, можно переименовать параметры с помощью словарей label2id и id2label. Это позволит при выводе результатов видеть классы."
   ]
  },
  {
   "cell_type": "code",
   "execution_count": null,
   "metadata": {},
   "outputs": [],
   "source": [
    "from transformers import AutoTokenizer, AutoConfig, AutoModelForSequenceClassification\n",
    "\n",
    "label2id = {\n",
    "    \"negative\": 0,\n",
    "    \"positive\": 1,\n",
    "  }\n",
    "id2label = {\n",
    "    0: \"negative\",\n",
    "    1: \"positive\",\n",
    "  }\n",
    "model_ckpt = \"C:\\\\Users\\\\lantum\\\\Downloads\\\\checkpoint-6000\\\\\"\n",
    "config = AutoConfig.from_pretrained(model_ckpt, label2id=label2id, id2label=id2label)\n"
   ]
  },
  {
   "attachments": {},
   "cell_type": "markdown",
   "metadata": {},
   "source": [
    "Загружаем сохраненную модель, а именно последний чекпоинт при обучении"
   ]
  },
  {
   "cell_type": "code",
   "execution_count": null,
   "metadata": {},
   "outputs": [],
   "source": [
    "from transformers import DistilBertForSequenceClassification\n",
    "\n",
    "tokenizer = AutoTokenizer.from_pretrained(\"C:\\\\Users\\\\lantum\\\\Downloads\\\\checkpoint-6000\\\\\")\n",
    "model = AutoModelForSequenceClassification.from_pretrained(\"C:\\\\Users\\\\lantum\\\\Downloads\\\\checkpoint-6000\\\\\", config=config)"
   ]
  },
  {
   "attachments": {},
   "cell_type": "markdown",
   "metadata": {},
   "source": [
    "Проверяем предсказание модели на тестовом предложении text"
   ]
  },
  {
   "cell_type": "code",
   "execution_count": null,
   "metadata": {},
   "outputs": [],
   "source": [
    "text = \"Good\"\n",
    "\n",
    "tensor = tokenizer(text, padding=\"max_length\",  truncation=True, max_length=512, return_tensors=\"pt\")\n",
    "\n",
    "\n",
    "print(\"Example output\", model(**tensor))\n",
    "\n",
    "logits = model(**tensor).logits\n",
    "predicted_class_id = logits.argmax().item()\n",
    "print(model.config.id2label[predicted_class_id])"
   ]
  }
 ],
 "metadata": {
  "kernelspec": {
   "display_name": "Python 3.9.13 64-bit",
   "language": "python",
   "name": "python3"
  },
  "language_info": {
   "codemirror_mode": {
    "name": "ipython",
    "version": 3
   },
   "file_extension": ".py",
   "mimetype": "text/x-python",
   "name": "python",
   "nbconvert_exporter": "python",
   "pygments_lexer": "ipython3",
   "version": "3.9.13 (tags/v3.9.13:6de2ca5, May 17 2022, 16:36:42) [MSC v.1929 64 bit (AMD64)]"
  },
  "orig_nbformat": 4,
  "vscode": {
   "interpreter": {
    "hash": "ea2b16b48a79c9107d10c988ad0a7e5e7fef78760e91c5449724062058dace98"
   }
  }
 },
 "nbformat": 4,
 "nbformat_minor": 2
}
